{
  "nbformat": 4,
  "nbformat_minor": 0,
  "metadata": {
    "colab": {
      "provenance": []
    },
    "kernelspec": {
      "name": "python3",
      "display_name": "Python 3"
    },
    "language_info": {
      "name": "python"
    }
  },
  "cells": [
    {
      "cell_type": "code",
      "execution_count": null,
      "metadata": {
        "colab": {
          "base_uri": "https://localhost:8080/"
        },
        "id": "wDSuFPA2ncIj",
        "outputId": "41cc6676-ae13-4038-bc80-0ae8bac78645"
      },
      "outputs": [
        {
          "output_type": "stream",
          "name": "stdout",
          "text": [
            "Olá, Mundo!\n"
          ]
        }
      ],
      "source": [
        "#Escreva um programa que imprima \"Olá, mundo!\"\n",
        "print(\"Olá, Mundo!\")"
      ]
    },
    {
      "cell_type": "code",
      "source": [
        "#Crie uma variável chamada nome e atribua a ela o valor \"Maria\". Em seguida imprima\n",
        "nome=\"Maria\"\n",
        "print(f\"Olá, sou {nome}\")"
      ],
      "metadata": {
        "colab": {
          "base_uri": "https://localhost:8080/"
        },
        "id": "WUdoKqzenxQd",
        "outputId": "62878090-a3db-4ed3-8d97-e0954474e76a"
      },
      "execution_count": null,
      "outputs": [
        {
          "output_type": "stream",
          "name": "stdout",
          "text": [
            "Olá, sou Maria\n"
          ]
        }
      ]
    },
    {
      "cell_type": "code",
      "source": [
        "# Peça ao usuário para inserir um número e armazene em uma vaiável chamada numero. em seguido, imprima o tipo dessa variavel.\n",
        "numero=int(input(\"Digite um numero: \"))\n",
        "print(f\"O seu número é {numero}.\")"
      ],
      "metadata": {
        "colab": {
          "base_uri": "https://localhost:8080/"
        },
        "id": "OZO66QJ0pUPG",
        "outputId": "bd8d40c2-034d-43b2-cc5a-33605bb860fb"
      },
      "execution_count": null,
      "outputs": [
        {
          "output_type": "stream",
          "name": "stdout",
          "text": [
            "Digite um numero: 15\n",
            "O seu número é 15.\n"
          ]
        }
      ]
    },
    {
      "cell_type": "code",
      "source": [
        "\"\"\"\n",
        "Crie duas variáveis a e b, atribua a elas os valores de 10 e 5, respectivamente.\n",
        "Em seguida, calcule e imprima a soma, subtração, multiplicação e divisão dessas variáveis\n",
        "\"\"\"\n",
        "\n",
        "A=10\n",
        "B=5\n",
        "\n",
        "print(f\"A soma é {A+B}\")\n",
        "print(f\"A subtração é {A-B}\")\n",
        "print(f\"A multiplicação é {A*B}\")\n",
        "print(f\"A divisão é {A/B}\")\n"
      ],
      "metadata": {
        "colab": {
          "base_uri": "https://localhost:8080/"
        },
        "id": "1PzCE3Tbq651",
        "outputId": "5f6247a0-48dd-424d-9ce3-ed57da44d8f1"
      },
      "execution_count": null,
      "outputs": [
        {
          "output_type": "stream",
          "name": "stdout",
          "text": [
            "A soma é 15\n",
            "A subtração é 5\n",
            "A multiplicação é 50\n",
            "A divisão é 2.0\n"
          ]
        }
      ]
    },
    {
      "cell_type": "code",
      "source": [
        "\"\"\"\n",
        "insirir dois numeros e armazene as variaveis. Em seguida soma.\n",
        "\"\"\"\n",
        "num1 = int(input(\"Digite um número: \"))\n",
        "num2 = int(input(\"Digite um outro número: \"))\n",
        "soma = num1 + num2\n",
        "print(f\"A soma dos dois números é {soma}. \")"
      ],
      "metadata": {
        "colab": {
          "base_uri": "https://localhost:8080/"
        },
        "id": "kLwSjTUpsQ1l",
        "outputId": "e6f44b4f-ac85-4cde-9f32-9b3d1dfce139"
      },
      "execution_count": null,
      "outputs": [
        {
          "output_type": "stream",
          "name": "stdout",
          "text": [
            "Digite um número: 15\n",
            "Digite um outro número: 20\n",
            "A soma dos dois números é 35. \n"
          ]
        }
      ]
    },
    {
      "cell_type": "code",
      "source": [
        "idade = int(input(\"Digite a sua idade: \"))\n",
        "if idade >=18 :\n",
        "  print(\"Parabéns, você já assumiu a maior idade!\")\n",
        "else:\n",
        "  print(\"Você é menor de idade!\")"
      ],
      "metadata": {
        "colab": {
          "base_uri": "https://localhost:8080/"
        },
        "id": "w3LmyoDvtg1V",
        "outputId": "34d4bcbf-c652-4c70-e71e-eb6be5f2fc5b"
      },
      "execution_count": null,
      "outputs": [
        {
          "output_type": "stream",
          "name": "stdout",
          "text": [
            "Digite a sua idade: 18\n",
            "Parabéns, você já assumiu a maior idade!\n"
          ]
        }
      ]
    },
    {
      "cell_type": "code",
      "source": [
        "#Peça ao usuario para digitar um numero.\n",
        "#Esse número é par ou impar\n",
        "\n",
        "numero = int(input(\"Digite um número inteiro:\"))\n",
        "\n",
        "numero = int(numero)\n",
        "\n",
        "  if numero % 2 == 0:\n",
        "    print(f\"O Número {numero} é par!\")\n",
        "  else:\n",
        "    print(f\"O Número {numero} é impar!\")\n"
      ],
      "metadata": {
        "colab": {
          "base_uri": "https://localhost:8080/"
        },
        "id": "AhFO8cq1vo4k",
        "outputId": "873d15c3-eded-4aea-88ab-5fa06961f94b"
      },
      "execution_count": null,
      "outputs": [
        {
          "output_type": "stream",
          "name": "stdout",
          "text": [
            "Digite um número inteiro:20\n",
            "O Número 20 é par!\n"
          ]
        }
      ]
    },
    {
      "cell_type": "code",
      "source": [
        "idade = int(input(\"Digite a idade: \"))\n",
        "if idade < 18 :\n",
        "  print(f\"Você ainda é menor de idade!\")\n",
        "elif idade <=65:\n",
        "  print(f\"Você está na puberdade!!\")\n",
        "else:\n",
        "  print(f\"Você é maior de idade!!!\")"
      ],
      "metadata": {
        "colab": {
          "base_uri": "https://localhost:8080/"
        },
        "id": "d0BpVHGqxb4U",
        "outputId": "5ec6aa63-a9bb-447c-a0fb-b01aa10e0666"
      },
      "execution_count": null,
      "outputs": [
        {
          "output_type": "stream",
          "name": "stdout",
          "text": [
            "Digite a idade: 18\n",
            "Você está na puberdade!!\n"
          ]
        }
      ]
    },
    {
      "cell_type": "code",
      "source": [
        "# Digite uma nota\n",
        "# O aluno está aprovado ou reprovado\n",
        "\n",
        "nota = float(input(\"Digite sua nota: \"))\n",
        "if nota <=5:\n",
        "  print(f\"Você está reprovado\")\n",
        "elif nota <=10:\n",
        "  print(f\"Parabéns você está aprovado!!\")\n",
        "else:\n",
        "  print(f\" Digite um número !!!!\")"
      ],
      "metadata": {
        "colab": {
          "base_uri": "https://localhost:8080/"
        },
        "id": "TNG8o8VtzJiz",
        "outputId": "6eeb2403-7f9d-45b8-aaa7-9ee4c9120fc8"
      },
      "execution_count": null,
      "outputs": [
        {
          "output_type": "stream",
          "name": "stdout",
          "text": [
            "Digite sua nota: 4\n",
            "Você está reprovado\n"
          ]
        }
      ]
    },
    {
      "cell_type": "code",
      "source": [
        "#O usuária vai inserir um número.\n",
        "# Verifique se o número é positivo, negativo ou zero.\n",
        "numero = int(input(\"Digite um número: \"))\n",
        "if numero >0:\n",
        "  print(f\"O {numero} é positivo!!\")\n",
        "elif numero <0:\n",
        "  print(f\"O {numero} é negativo!\")\n",
        "else:\n",
        "  print(f\"Você digitou o número Zero (0)!!!\")"
      ],
      "metadata": {
        "id": "5Ib_KyZv1Pyc",
        "colab": {
          "base_uri": "https://localhost:8080/"
        },
        "outputId": "b301d9bf-1781-4e59-8bbd-4876822d81dd"
      },
      "execution_count": null,
      "outputs": [
        {
          "output_type": "stream",
          "name": "stdout",
          "text": [
            "Digite um número: -10\n",
            "O -10 é negativo!\n"
          ]
        }
      ]
    },
    {
      "cell_type": "code",
      "source": [
        "#Inserir dois números\n",
        "#Verificar qual é o maior\n",
        "numero1 = int(input(\"Digite o primeiro número: \"))\n",
        "numero2 = int(input(\"Digite o segundo número: \"))\n",
        "if numero1<numero2:\n",
        "  print(f\"O {numero2} é maior que o {numero1}\")\n",
        "elif numero1>numero2:\n",
        "  print(f\"O {numero1} é maior que o {numero2}\")\n",
        "else:\n",
        "  print(f\"O {numero1} é igual ao {numero2}\")"
      ],
      "metadata": {
        "colab": {
          "base_uri": "https://localhost:8080/"
        },
        "id": "fXZvz3cQ5IIQ",
        "outputId": "0ac33857-1d22-4501-a4d9-67d2e768aaa0"
      },
      "execution_count": null,
      "outputs": [
        {
          "output_type": "stream",
          "name": "stdout",
          "text": [
            "Digite o primeiro número: 20\n",
            "Digite o segundo número: 10\n",
            "O 20 é maior que o 10\n"
          ]
        }
      ]
    },
    {
      "cell_type": "code",
      "source": [
        "#Crie uma variavel operação\n",
        "#Atribua a ela uma string representando uma operação matematica (+-*/)\n",
        "num1 = int(input(f\"Insira um número: \"))\n",
        "num2 = int(input(f\"Insira outro número: \"))\n",
        "operacao = input(f\"Insira a operação matemática a ser utilizada: \")\n",
        "\n",
        "if  operacao == \"+\":\n",
        "  resultado = num1 + num2\n",
        "elif operacao == \"-\":\n",
        "  resultado = num1 - num2\n",
        "elif operacao == \"*\":\n",
        "  resultado = num1 * num2\n",
        "elif operacao == \"/\":\n",
        "  resultado = num1 / num2\n",
        "else:\n",
        "  print(f\"Por favor digite a operação a ser utilizada + (soma), - (subtração), *(multiplicação) ou / (divisão). \")\n",
        "\n",
        "\n",
        "print(f\"O resultado de {num1} {operacao} {num2} é: {resultado}\")"
      ],
      "metadata": {
        "id": "bvwBW0PN6whW",
        "colab": {
          "base_uri": "https://localhost:8080/"
        },
        "outputId": "e620dcb4-27cc-47bd-96bf-a3ccdfd3410f"
      },
      "execution_count": null,
      "outputs": [
        {
          "output_type": "stream",
          "name": "stdout",
          "text": [
            "Insira um número: 10\n",
            "Insira outro número: 5\n",
            "Insira a operação matemática a ser utilizada: +\n",
            "O resultado de 10 + 5 é: 15\n"
          ]
        }
      ]
    },
    {
      "cell_type": "code",
      "source": [
        "num = int(input(f\"Digite um numero: \"))\n",
        "num = int(num)\n",
        "\n",
        "if num >0 and num %2 == 0:\n",
        "  print(f\"O número {num} é positivo e par!\")\n",
        "elif num <0:\n",
        "  print(f\"O número que você digitou é negativo!\")\n",
        "else:\n",
        "  print(f\"O número {num} é positivo mas e impar!\")"
      ],
      "metadata": {
        "colab": {
          "base_uri": "https://localhost:8080/"
        },
        "id": "0zynGCMLByhF",
        "outputId": "345b554d-3b7f-4d04-9e45-8d955d12e10e"
      },
      "execution_count": null,
      "outputs": [
        {
          "output_type": "stream",
          "name": "stdout",
          "text": [
            "Digite um numero: 7\n",
            "O número 7 é positivo mas e  impar!\n"
          ]
        }
      ]
    },
    {
      "cell_type": "code",
      "source": [
        "idade = int(input(\"Digite a idade: \"))\n",
        "if idade <= 12 :\n",
        "  print(f\"Você ainda é uam criança!\")\n",
        "elif idade >= 13 and idade <=17:\n",
        "  print(f\"Você é um adolecente!!\")\n",
        "else:\n",
        "  print(f\"Você é um adulto!!!\")"
      ],
      "metadata": {
        "colab": {
          "base_uri": "https://localhost:8080/"
        },
        "id": "RcAEmh8vNiQq",
        "outputId": "35c089d1-8d61-4fbc-d1e5-80095f440f30"
      },
      "execution_count": null,
      "outputs": [
        {
          "output_type": "stream",
          "name": "stdout",
          "text": [
            "Digite a idade: 20\n",
            "Você é um adulto!!!\n"
          ]
        }
      ]
    },
    {
      "cell_type": "markdown",
      "source": [],
      "metadata": {
        "id": "84m9VJh-x4qG"
      }
    },
    {
      "cell_type": "code",
      "source": [
        "# Avaliação da expressão matemática\n",
        "expressao= (2 + 3) * 4 - 5 / 2 * (2 + 3) * 4 - 5 / 2\n",
        "\n",
        "# Exibindo o resultado\n",
        "print(f\"O resultado da expressão é: {expressao}\")"
      ],
      "metadata": {
        "colab": {
          "base_uri": "https://localhost:8080/"
        },
        "id": "tFM4iQqdOZIr",
        "outputId": "56bcec69-f353-427b-9013-6f02dda45992"
      },
      "execution_count": null,
      "outputs": [
        {
          "output_type": "stream",
          "name": "stdout",
          "text": [
            "O resultado da expressão é: -32.5\n"
          ]
        }
      ]
    },
    {
      "cell_type": "code",
      "source": [
        "expressao = (2 + 3) * 4 - 5 / 2 * (2 + 3) * 4 - 5 / 2\n",
        "print ({expressao})"
      ],
      "metadata": {
        "colab": {
          "base_uri": "https://localhost:8080/"
        },
        "id": "cb40U5I-QtAL",
        "outputId": "e09f146e-3c58-4f8d-ae53-38899802cbb1"
      },
      "execution_count": null,
      "outputs": [
        {
          "output_type": "stream",
          "name": "stdout",
          "text": [
            "{-32.5}\n"
          ]
        }
      ]
    },
    {
      "cell_type": "code",
      "source": [
        "base = 2\n",
        "resultado = base**2\n",
        "print(f\"O resultado da {base} elevado ao quadrado é: {resultado}\")"
      ],
      "metadata": {
        "colab": {
          "base_uri": "https://localhost:8080/"
        },
        "id": "_i5s-Kr1x1Dn",
        "outputId": "f0375d6b-3f07-4d19-ec63-d8ec184b30e4"
      },
      "execution_count": 1,
      "outputs": [
        {
          "output_type": "stream",
          "name": "stdout",
          "text": [
            "O resultado da 2 elevado ao quadrado é: 4\n"
          ]
        }
      ]
    },
    {
      "cell_type": "code",
      "source": [
        "import math\n",
        "raio = 5\n",
        "area = math.pi*raio**2\n",
        "print(f\"A área do circulo com o raio igual a 5 é {area}\")"
      ],
      "metadata": {
        "colab": {
          "base_uri": "https://localhost:8080/"
        },
        "id": "2yFvS0ZO0AXu",
        "outputId": "817e6e94-6e2b-4a29-fe1f-f6bb588bb3ba"
      },
      "execution_count": 2,
      "outputs": [
        {
          "output_type": "stream",
          "name": "stdout",
          "text": [
            "A área do circulo com o raio igual a 5 é 78.53981633974483\n"
          ]
        }
      ]
    }
  ]
}